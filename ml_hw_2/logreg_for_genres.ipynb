{
  "nbformat": 4,
  "nbformat_minor": 0,
  "metadata": {
    "colab": {
      "name": "Untitled4.ipynb",
      "provenance": []
    },
    "kernelspec": {
      "name": "python3",
      "display_name": "Python 3"
    }
  },
  "cells": [
    {
      "cell_type": "code",
      "metadata": {
        "id": "tJw5P9Xtnrxo"
      },
      "source": [
        "import pandas as pd\n",
        "import numpy as np\n",
        "import ast"
      ],
      "execution_count": null,
      "outputs": []
    },
    {
      "cell_type": "code",
      "metadata": {
        "id": "LYSZ-wSen885"
      },
      "source": [
        "train = pd.read_csv('train.csv')\n",
        "test = pd.read_csv('test.csv')"
      ],
      "execution_count": null,
      "outputs": []
    },
    {
      "cell_type": "code",
      "metadata": {
        "id": "G8fUJNOzoUZR"
      },
      "source": [
        "train.genres = train.genres.apply(ast.literal_eval)"
      ],
      "execution_count": null,
      "outputs": []
    },
    {
      "cell_type": "code",
      "metadata": {
        "id": "1r_lMvUgocwv"
      },
      "source": [
        "from sklearn.feature_extraction.text import TfidfVectorizer\n",
        "from sklearn.preprocessing import  MultiLabelBinarizer\n",
        "\n",
        "multilabel_binarizer = MultiLabelBinarizer()\n",
        "multilabel_binarizer.fit(train.genres)\n",
        "Y = multilabel_binarizer.transform(train.genres)\n",
        "\n",
        "tfidf_vectorizer = TfidfVectorizer(min_df = 10)\n",
        "X_tfidf = tfidf_vectorizer.fit_transform(train.dialogue)"
      ],
      "execution_count": null,
      "outputs": []
    },
    {
      "cell_type": "code",
      "metadata": {
        "id": "PrYen6aSpXrx"
      },
      "source": [
        "from sklearn.model_selection import train_test_split\n",
        "from sklearn.linear_model import LogisticRegression\n",
        "from sklearn.multiclass import OneVsRestClassifier\n",
        "from sklearn.svm import LinearSVC\n",
        "from sklearn.metrics import f1_score\n",
        "from sklearn.ensemble import RandomForestClassifier\n",
        "from xgboost import XGBClassifier\n",
        "from sklearn.linear_model import Perceptron"
      ],
      "execution_count": null,
      "outputs": []
    },
    {
      "cell_type": "code",
      "metadata": {
        "id": "1n5STXrPQzxb"
      },
      "source": [
        "x_train_tfidf, x_test_tfidf, y_train_tfidf, y_test_tfidf = train_test_split(X_tfidf, \n",
        "                                                                               Y, test_size = 0.2, random_state = 1)"
      ],
      "execution_count": null,
      "outputs": []
    },
    {
      "cell_type": "code",
      "metadata": {
        "id": "RiCt6GJpPWTx",
        "colab": {
          "base_uri": "https://localhost:8080/"
        },
        "outputId": "077217a0-291c-4205-c99c-f51293f3bf9f"
      },
      "source": [
        "rfc = OneVsRestClassifier(Perceptron(), n_jobs=-1)\n",
        "\n",
        "y_pred = np.empty((7399,20))\n",
        "rfc.fit(x_train_tfidf,y_train_tfidf)\n",
        "y_pred = rfc.predict(x_test_tfidf)\n",
        "print(f1_score(y_test_tfidf, y_pred, average='samples'))\n"
      ],
      "execution_count": null,
      "outputs": [
        {
          "output_type": "stream",
          "text": [
            "0.5722729973844991\n"
          ],
          "name": "stdout"
        }
      ]
    },
    {
      "cell_type": "code",
      "metadata": {
        "id": "gxcOurzAqVcC",
        "colab": {
          "base_uri": "https://localhost:8080/"
        },
        "outputId": "4c528145-4f8e-4858-cc71-0cfb09793115"
      },
      "source": [
        "lr = LogisticRegression(max_iter=1000, multi_class='multinomial')\n",
        "svc = LinearSVC()\n",
        "\n",
        "y_pred = np.empty((7399,20))\n",
        "lr_ovr = OneVsRestClassifier(lr)\n",
        "lr_ovr.fit(x_train_tfidf, y_train_tfidf)\n",
        "y_pred_proba = lr_ovr.predict_proba(x_test_tfidf)\n",
        "for i in range(7399):\n",
        "  for j in range(20):\n",
        "    if y_pred_proba[i][j] >= 0.3:\n",
        "      y_pred[i][j] = 1\n",
        "    else:\n",
        "      y_pred[i][j] = 0\n",
        "print(f1_score(y_test_tfidf, y_pred, average='samples'))"
      ],
      "execution_count": null,
      "outputs": [
        {
          "output_type": "stream",
          "text": [
            "0.6060228001639004   0\n",
            "0.6362337681840318   1\n",
            "0.649591536393807   2\n",
            "0.6561915273835803   3\n",
            "0.6599764661462187   4\n",
            "0.662382411179546   5\n",
            "0.6642787420865539   6\n",
            "0.6647865327146311   7\n",
            "0.6669039359673229   8\n",
            "0.6669596062960031   9\n",
            "0.6670928289322665   10\n",
            "0.668270916061158   11\n",
            "0.6676665872908608   12\n",
            "0.6670365150159716   13\n",
            "0.6664553553998074   14\n",
            "0.6665345166764277   15\n",
            "0.6663900312569052   16\n",
            "0.6661428936128219   17\n",
            "0.6660407777112737   18\n",
            "0.6662093976663512   19\n",
            "0.6661180082250497   20\n",
            "0.6660401341236588   21\n",
            "0.6660082765367263   22\n",
            "0.665779481139665   23\n",
            "0.6654078092921181   24\n",
            "0.6652327534608924   25\n",
            "0.6646116914126105   26\n",
            "0.6641219212377478   27\n",
            "0.6638516144395318   28\n",
            "0.6627903384627266   29\n",
            "0.6618362198237857   30\n",
            "0.6614524270761601   31\n",
            "0.6609034468407358   32\n",
            "0.6603985523569251   33\n",
            "0.6605684594872322   34\n",
            "0.6599901960153345   35\n",
            "0.6598943014607294   36\n",
            "0.6596854572797267   37\n",
            "0.6593312695623819   38\n",
            "0.659031357733885   39\n",
            "0.658693474236115   40\n",
            "0.6584386135406542   41\n",
            "0.6581898669275341   42\n",
            "0.6579247088302367   43\n",
            "0.6577490094113964   44\n",
            "0.6571620575066988   45\n",
            "0.6573606042858645   46\n",
            "0.6569358364600965   47\n",
            "0.6564432774055695   48\n",
            "0.6561163348972513   49\n",
            "0.6556719376492318   50\n",
            "0.6555470816519606   51\n",
            "0.6553334105638472   52\n",
            "0.6546804909286326   53\n",
            "0.6543969905843132   54\n",
            "0.6542599064223609   55\n",
            "0.6538763282039401   56\n",
            "0.653625543563373   57\n",
            "0.6532088205827901   58\n",
            "0.6529504201554479   59\n",
            "0.652922424094204   60\n",
            "0.6523522054674913   61\n",
            "0.6521179395757041   62\n",
            "0.651951250383471   63\n",
            "0.6520062771245364   64\n",
            "0.6515873015873016   65\n",
            "0.6512651859860943   66\n",
            "0.6509453229415387   67\n",
            "0.6504954551987936   68\n",
            "0.6502360893900292   69\n",
            "0.6499673915608501   70\n",
            "0.6497337692566777   71\n",
            "0.6499052853560219   72\n",
            "0.6492044184435048   73\n",
            "0.6490988700746776   74\n",
            "0.6488600990695867   75\n",
            "0.6488877733370233   76\n",
            "0.6485366962931498   77\n",
            "0.6484150582339528   78\n",
            "0.6482329229389643   79\n",
            "0.6480990567150858   80\n",
            "0.6479890032329552   81\n",
            "0.6479259316467048   82\n",
            "0.6478506318957731   83\n",
            "0.6476517633228   84\n",
            "0.6474174974310127   85\n",
            "0.6473724462979767   86\n",
            "0.6470163668230975   87\n",
            "0.64671902934506   88\n",
            "0.6466942512218901   89\n",
            "0.6463518626108165   90\n",
            "0.6460109757041774   91\n",
            "0.6459968167766519   92\n",
            "0.6457886161832641   93\n",
            "0.6455343990754181   94\n",
            "0.6451077004868057   95\n",
            "0.6451337657852052   96\n",
            "0.6450076226127044   97\n",
            "0.6446333764146983   98\n",
            "0.6445851073435883   99\n"
          ],
          "name": "stdout"
        }
      ]
    },
    {
      "cell_type": "code",
      "metadata": {
        "id": "VqtCN7PPuKpp",
        "colab": {
          "base_uri": "https://localhost:8080/"
        },
        "outputId": "f4803e9d-e696-4dcd-8669-fd48e7534cb9"
      },
      "source": [
        "lr_ovr.fit(X_tfidf, Y)\n",
        "svc_ovr.fit(X_tfidf, Y)"
      ],
      "execution_count": null,
      "outputs": [
        {
          "output_type": "execute_result",
          "data": {
            "text/plain": [
              "OneVsRestClassifier(estimator=LinearSVC(C=1.0, class_weight=None, dual=True,\n",
              "                                        fit_intercept=True, intercept_scaling=1,\n",
              "                                        loss='squared_hinge', max_iter=1000,\n",
              "                                        multi_class='ovr', penalty='l2',\n",
              "                                        random_state=None, tol=0.0001,\n",
              "                                        verbose=0),\n",
              "                    n_jobs=None)"
            ]
          },
          "metadata": {
            "tags": []
          },
          "execution_count": 33
        }
      ]
    },
    {
      "cell_type": "code",
      "metadata": {
        "id": "eMOZDtgIwBxU"
      },
      "source": [
        "X_test = tfidf_vectorizer.transform(test.dialogue)"
      ],
      "execution_count": null,
      "outputs": []
    },
    {
      "cell_type": "code",
      "metadata": {
        "id": "vkeq0z-WwKie"
      },
      "source": [
        "y_pred_svc = svc_ovr.predict(X_test)\n",
        "y_pred_proba_lr = lr_ovr.predict_proba(X_test)\n",
        "y_pred_lr = np.empty((9403,20))\n",
        "for i in range(9403):\n",
        "  for j in range(20):\n",
        "    if y_pred_proba_lr[i][j] >= 0.3:\n",
        "      y_pred_lr[i][j] = 1\n",
        "    else:\n",
        "      y_pred_lr[i][j] = 0"
      ],
      "execution_count": null,
      "outputs": []
    },
    {
      "cell_type": "code",
      "metadata": {
        "id": "OdXwgJ3GxR4t"
      },
      "source": [
        "Y_svc = multilabel_binarizer.inverse_transform(y_pred_svc)\n",
        "Y_lr = multilabel_binarizer.inverse_transform(y_pred_lr)"
      ],
      "execution_count": null,
      "outputs": []
    },
    {
      "cell_type": "code",
      "metadata": {
        "id": "hwhY8FeXxisR"
      },
      "source": [
        "res_svc = pd.DataFrame({'genres':Y_svc})\n",
        "res_lr = pd.DataFrame({'genres':Y_lr})"
      ],
      "execution_count": null,
      "outputs": []
    },
    {
      "cell_type": "code",
      "metadata": {
        "id": "EQJSQND8xnLg"
      },
      "source": [
        "res_lr['genres'] = [' '.join(map(str, l)) for l in res_lr['genres']]\n",
        "res_svc['genres'] = [' '.join(map(str, l)) for l in res_svc['genres']]"
      ],
      "execution_count": null,
      "outputs": []
    },
    {
      "cell_type": "code",
      "metadata": {
        "id": "gUY7_zmsyNsU"
      },
      "source": [
        "res_lr.to_csv('res_lr_multi.csv')\n",
        "res_svc.to_csv('res_svc.csv')"
      ],
      "execution_count": null,
      "outputs": []
    },
    {
      "cell_type": "code",
      "metadata": {
        "id": "U0e2fJGhygKE"
      },
      "source": [
        ""
      ],
      "execution_count": null,
      "outputs": []
    }
  ]
}