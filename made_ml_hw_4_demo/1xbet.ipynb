{
 "cells": [
  {
   "cell_type": "code",
   "execution_count": 1,
   "metadata": {},
   "outputs": [],
   "source": [
    "import warnings\n",
    "warnings.filterwarnings(\"ignore\")\n",
    "\n",
    "import ipywidgets as widgets\n",
    "from IPython.display import display\n",
    "import pandas as pd\n",
    "\n",
    "\n",
    "from classifier import Classifier"
   ]
  },
  {
   "cell_type": "markdown",
   "metadata": {},
   "source": [
    "# Read data and prepare classificator"
   ]
  },
  {
   "cell_type": "code",
   "execution_count": 2,
   "metadata": {},
   "outputs": [],
   "source": [
    "with open('teams.txt') as t:\n",
    "    teams = t.read().rsplit()"
   ]
  },
  {
   "cell_type": "code",
   "execution_count": 3,
   "metadata": {},
   "outputs": [],
   "source": [
    "teams = sorted(teams, key=lambda l: int(l[4:]))"
   ]
  },
  {
   "cell_type": "code",
   "execution_count": 4,
   "metadata": {},
   "outputs": [],
   "source": [
    "clf = Classifier()"
   ]
  },
  {
   "cell_type": "markdown",
   "metadata": {},
   "source": [
    "# Bulid form"
   ]
  },
  {
   "cell_type": "code",
   "execution_count": 5,
   "metadata": {},
   "outputs": [],
   "source": [
    "def predict(team1, team2):\n",
    "    win_home, draw, win_away = clf.predict_proba(team_home=team1, team_away=team2)\n",
    "    l = {\n",
    "        'Win home team' : win_home,\n",
    "        'Draw between teams' : draw,\n",
    "        'Win away team': win_away\n",
    "    }\n",
    "    print(pd.DataFrame(l, index=['Probability']).T)\n",
    "    "
   ]
  },
  {
   "cell_type": "code",
   "execution_count": 6,
   "metadata": {},
   "outputs": [],
   "source": [
    "team1=widgets.Combobox(\n",
    "    placeholder='Choose Someone Team',\n",
    "    options=teams,\n",
    "    description='Team Home:',\n",
    "    ensure_option=True,\n",
    "    disabled=False\n",
    ")\n",
    "team2=widgets.Combobox(\n",
    "    placeholder='Choose Someone Team',\n",
    "    options=teams,\n",
    "    description='Team Away:',\n",
    "    ensure_option=True,\n",
    "    disabled=False\n",
    ")                  \n",
    "button = widgets.Button(\n",
    "                        description='Predict',\n",
    "                        disabled=False,\n",
    "                        button_style='info', # 'success', 'info', 'warning', 'danger' or ''\n",
    "                        tooltip='Click me',\n",
    "                        icon=''\n",
    "                    )\n",
    "output = widgets.Output()\n",
    "def button_on(b):\n",
    "    output.clear_output()\n",
    "    with output:\n",
    "        predict(team1.value, team2.value)"
   ]
  },
  {
   "cell_type": "markdown",
   "metadata": {},
   "source": [
    "# Show form"
   ]
  },
  {
   "cell_type": "code",
   "execution_count": 7,
   "metadata": {},
   "outputs": [
    {
     "data": {
      "application/vnd.jupyter.widget-view+json": {
       "model_id": "0c076d266ec043a6ab4e8b3978909829",
       "version_major": 2,
       "version_minor": 0
      },
      "text/plain": [
       "VBox(children=(Combobox(value='', description='Team Home:', ensure_option=True, options=('team0', 'team1', 'te…"
      ]
     },
     "metadata": {},
     "output_type": "display_data"
    }
   ],
   "source": [
    "display(widgets.VBox([team1, team2, button, output]))\n",
    "button.on_click(button_on)"
   ]
  },
  {
   "cell_type": "code",
   "execution_count": null,
   "metadata": {},
   "outputs": [],
   "source": []
  }
 ],
 "metadata": {
  "kernelspec": {
   "display_name": "Python 3",
   "language": "python",
   "name": "python3"
  },
  "language_info": {
   "codemirror_mode": {
    "name": "ipython",
    "version": 3
   },
   "file_extension": ".py",
   "mimetype": "text/x-python",
   "name": "python",
   "nbconvert_exporter": "python",
   "pygments_lexer": "ipython3",
   "version": "3.8.3"
  }
 },
 "nbformat": 4,
 "nbformat_minor": 4
}
