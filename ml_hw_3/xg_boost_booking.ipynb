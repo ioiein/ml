{
 "cells": [
  {
   "cell_type": "code",
   "execution_count": 1,
   "metadata": {
    "id": "xoQGBodqjyTO"
   },
   "outputs": [],
   "source": [
    "import pandas as pd\n",
    "import numpy as np\n",
    "import datetime\n",
    "import ast\n",
    "from sklearn.preprocessing import  MultiLabelBinarizer\n",
    "from sklearn.preprocessing import OneHotEncoder\n",
    "from sklearn.feature_extraction.text import TfidfVectorizer\n",
    "from scipy.sparse import hstack\n",
    "from sklearn.model_selection import train_test_split\n",
    "from sklearn.decomposition import TruncatedSVD\n",
    "from sklearn.metrics import mean_absolute_error"
   ]
  },
  {
   "cell_type": "code",
   "execution_count": 149,
   "metadata": {
    "colab": {
     "base_uri": "https://localhost:8080/",
     "height": 433
    },
    "id": "yPBxgXgtkSTA",
    "outputId": "b9432ad8-e261-4933-a1c4-06c68a599789"
   },
   "outputs": [],
   "source": [
    "calendar = pd.read_csv('calendar.csv')\n",
    "reviews = pd.read_csv('reviews.csv')\n",
    "test = pd.read_csv('test.csv')\n",
    "train = pd.read_csv('train.csv')"
   ]
  },
  {
   "cell_type": "code",
   "execution_count": 150,
   "metadata": {
    "id": "ZY0qKjldyU8O"
   },
   "outputs": [],
   "source": [
    "data = train"
   ]
  },
  {
   "cell_type": "code",
   "execution_count": 151,
   "metadata": {
    "id": "6lchZZ1uyd0R"
   },
   "outputs": [],
   "source": [
    "data = data.drop(['summary', 'space', 'description', 'experiences_offered', 'host_since', \n",
    "                  'neighborhood_overview', 'notes', 'transit', 'access', 'price', 'cancellation_policy',\n",
    "                  'interaction', 'house_rules', 'host_id', 'host_about', 'square_feet', \n",
    "                  'host_response_time', 'neighbourhood_cleansed', 'zipcode'], axis = 1)\n",
    "Y = train.price"
   ]
  },
  {
   "cell_type": "code",
   "execution_count": 152,
   "metadata": {
    "id": "BAtp7yyOk6e0"
   },
   "outputs": [],
   "source": [
    "data.host_response_rate = data.host_response_rate.str.rstrip('%').astype(float)\n",
    "data.host_response_rate = data.host_response_rate.fillna(50)"
   ]
  },
  {
   "cell_type": "code",
   "execution_count": 153,
   "metadata": {
    "id": "DDmFUozho11h"
   },
   "outputs": [],
   "source": [
    "d = {'t': 1, 'f': 0}"
   ]
  },
  {
   "cell_type": "code",
   "execution_count": 154,
   "metadata": {
    "id": "_VXRpHbkpZ1V"
   },
   "outputs": [],
   "source": [
    "data.host_is_superhost = data.host_is_superhost.map(d).fillna(0)\n",
    "data.require_guest_phone_verification = data.require_guest_phone_verification.map(d).fillna(0)\n",
    "data.require_guest_profile_picture = data.require_guest_profile_picture.map(d).fillna(0)\n",
    "data.host_has_profile_pic = data.host_has_profile_pic.map(d).fillna(0)\n",
    "data.host_identity_verified = data.host_identity_verified.map(d).fillna(0)\n",
    "data.is_location_exact = data.is_location_exact.map(d).fillna(0)"
   ]
  },
  {
   "cell_type": "code",
   "execution_count": 155,
   "metadata": {
    "id": "_ik5eIq-utI2"
   },
   "outputs": [],
   "source": [
    "property_type_encoder = OneHotEncoder(sparse=False).fit(train.append(test).property_type.values.reshape(-1, 1))\n",
    "new_feature = property_type_encoder.transform(data.property_type.values.reshape(-1, 1))\n",
    "data = data.drop(['property_type'], axis = 1)\n",
    "tmp = pd.DataFrame(new_feature, columns=['property_type'+str(i) for i in range(new_feature.shape[1])])\n",
    "data = pd.concat([data,tmp], axis = 1)"
   ]
  },
  {
   "cell_type": "code",
   "execution_count": 156,
   "metadata": {
    "id": "K_sB9JjxuuKU"
   },
   "outputs": [],
   "source": [
    "room_type_encoder = OneHotEncoder(sparse=False).fit(train.append(test).room_type.values.reshape(-1, 1))\n",
    "new_feature = room_type_encoder.transform(data.room_type.values.reshape(-1, 1))\n",
    "data = data.drop(['room_type'], axis = 1)\n",
    "tmp = pd.DataFrame(new_feature, columns=['room_type'+str(i) for i in range(new_feature.shape[1])])\n",
    "data = pd.concat([data,tmp], axis = 1)"
   ]
  },
  {
   "cell_type": "code",
   "execution_count": 157,
   "metadata": {
    "id": "nwb3jPl2x8JS"
   },
   "outputs": [],
   "source": [
    "bed_type_encoder = OneHotEncoder(sparse=False).fit(train.append(test).bed_type.values.reshape(-1, 1))\n",
    "new_feature = bed_type_encoder.transform(data.bed_type.values.reshape(-1, 1))\n",
    "data = data.drop(['bed_type'], axis = 1)\n",
    "tmp = pd.DataFrame(new_feature, columns=['bed_type'+str(i) for i in range(new_feature.shape[1])])\n",
    "data = pd.concat([data,tmp], axis = 1)"
   ]
  },
  {
   "cell_type": "code",
   "execution_count": 158,
   "metadata": {
    "id": "3rF3fQNTyl3t"
   },
   "outputs": [],
   "source": [
    "data.bathrooms = data.bathrooms.fillna(0)\n",
    "data.bedrooms = data.bedrooms.fillna(0)\n",
    "data.beds = data.beds.fillna(0)"
   ]
  },
  {
   "cell_type": "code",
   "execution_count": 159,
   "metadata": {
    "id": "wAqkrvWRzYU5"
   },
   "outputs": [],
   "source": [
    "data.amenities = data.amenities.replace('[{\"}]', '', regex=True)\n",
    "data.amenities = data.amenities.apply(lambda x: x[:].split(','))"
   ]
  },
  {
   "cell_type": "code",
   "execution_count": 160,
   "metadata": {
    "id": "Nt5Si0Vm1H4X"
   },
   "outputs": [
    {
     "name": "stderr",
     "output_type": "stream",
     "text": [
      "D:\\Program Files (x86)\\Anaconda\\lib\\site-packages\\sklearn\\preprocessing\\_label.py:987: UserWarning: unknown class(es) ['', ' toilet', '24-hour check-in', 'Accessible-height bed', 'Accessible-height toilet', 'Air conditioning', 'Air purifier', 'Alfresco bathtub', 'Amazon Echo', 'BBQ grill', 'Baby bath', 'Baby monitor', 'Babysitter recommendations', 'Balcony', 'Bath towel', 'Bathroom essentials', 'Bathtub', 'Bathtub with bath chair', 'Beach essentials', 'Beach view', 'Beachfront', 'Bed linens', 'Bedroom comforts', 'Bidet', 'Body soap', 'Breakfast', 'Breakfast table', 'Building staff', 'Buzzer/wireless intercom', 'Cable TV', 'Carbon monoxide detector', 'Cat(s)', 'Ceiling fan', 'Ceiling hoist', 'Central air conditioning', 'Changing table', 'Children’s books and toys', 'Children’s dinnerware', 'Cleaning before checkout', 'Coffee maker', 'Convection oven', 'Cooking basics', 'Crib', 'DVD player', 'Day bed', 'Dining table', 'Disabled parking spot', 'Dishes and silverware', 'Dishwasher', 'Dog(s)', 'Doorman', 'Double oven', 'Dryer', 'EV charger', 'Electric profiling bed', 'Elevator', 'En suite bathroom', 'Espresso machine', 'Essentials', 'Ethernet connection', 'Exercise equipment', 'Extra pillows and blankets', 'Family/kid friendly', 'Fax machine', 'Fire extinguisher', 'Fire pit', 'Fireplace guards', 'Firm mattress', 'First aid kit', 'Fixed grab bars for shower', 'Fixed grab bars for toilet', 'Flat path to front door', 'Formal dining area', 'Free parking on premises', 'Free street parking', 'Full kitchen', 'Game console', 'Garden or backyard', 'Gas oven', 'Ground floor access', 'Gym', 'HBO GO', 'Hair dryer', 'Handheld shower head', 'Hangers', 'Heat lamps', 'Heated floors', 'Heated towel rack', 'Heating', 'High chair', 'High-resolution computer monitor', 'Host greets you', 'Hot tub', 'Hot water', 'Hot water kettle', 'Indoor fireplace', 'Internet', 'Iron', 'Ironing Board', 'Jetted tub', 'Keypad', 'Kitchen', 'Kitchenette', 'Lake access', 'Laptop friendly workspace', 'Lock on bedroom door', 'Lockbox', 'Long term stays allowed', 'Luggage dropoff allowed', 'Memory foam mattress', 'Microwave', 'Mini fridge', 'Mobile hoist', 'Mountain view', 'Murphy bed', 'Netflix', 'Other', 'Other pet(s)', 'Outdoor kitchen', 'Outdoor parking', 'Outdoor seating', 'Outlet covers', 'Oven', 'Pack ’n Play/travel crib', 'Paid parking off premises', 'Paid parking on premises', 'Patio or balcony', 'Pets allowed', 'Pets live on this property', 'Pillow-top mattress', 'Pocket wifi', 'Pool', 'Pool with pool hoist', 'Printer', 'Private bathroom', 'Private entrance', 'Private living room', 'Private pool', 'Projector and screen', 'Rain shower', 'Refrigerator', 'Roll-in shower', 'Room-darkening shades', 'Safety card', 'Self check-in', 'Shampoo', 'Shared gym', 'Shared pool', 'Shower chair', 'Single level home', 'Ski-in/Ski-out', 'Smart TV', 'Smart lock', 'Smoke detector', 'Smoking allowed', 'Soaking tub', 'Sound system', 'Stair gates', 'Stand alone steam shower', 'Standing valet', 'Steam oven', 'Step-free access', 'Stove', 'Suitable for events', 'Sun loungers', 'TV', 'Table corner guards', 'Tennis court', 'Terrace', 'Toilet paper', 'Touchless faucets', 'Walk-in shower', 'Warming drawer', 'Washer', 'Washer / Dryer', 'Waterfront', 'Well-lit path to entrance', 'Wheelchair accessible', 'Wide clearance to bed', 'Wide clearance to shower', 'Wide doorway', 'Wide entryway', 'Wide hallway clearance', 'Wifi', 'Window guards', 'Wine cooler', 'translation missing: en.hosting_amenity_49', 'translation missing: en.hosting_amenity_50'] will be ignored\n",
      "  .format(sorted(unknown, key=str)))\n"
     ]
    }
   ],
   "source": [
    "amenities_encoder = MultiLabelBinarizer().fit(train.append(test).amenities)\n",
    "new_feature = amenities_encoder.transform(data.amenities)\n",
    "data = data.drop(['amenities'], axis = 1)\n",
    "tmp = pd.DataFrame(new_feature, columns=['amenities'+str(i) for i in range(new_feature.shape[1])])\n",
    "data = pd.concat([data,tmp], axis = 1)"
   ]
  },
  {
   "cell_type": "code",
   "execution_count": 161,
   "metadata": {
    "id": "esDJW8vc-rtM"
   },
   "outputs": [],
   "source": [
    "data.security_deposit = data.security_deposit.fillna(0)\n",
    "data.cleaning_fee = data.cleaning_fee.fillna(0)"
   ]
  },
  {
   "cell_type": "code",
   "execution_count": 162,
   "metadata": {
    "id": "xjz1UO0zg8HM"
   },
   "outputs": [],
   "source": [
    "test.name = test.name.fillna('')\n",
    "train.name = train.name.fillna('')\n",
    "name_encoder = TfidfVectorizer(stop_words={'english'}).fit(train.append(test))\n",
    "data.name = data.name.fillna('')\n",
    "name_feature = name_encoder.transform(data.name)\n",
    "truncater = TruncatedSVD(n_components=30).fit(name_feature)\n",
    "name_feature = truncater.transform(name_feature)\n",
    "data = data.drop(['name'], axis = 1)\n",
    "tmp = pd.DataFrame(name_feature, columns=['name'+str(i) for i in range(name_feature.shape[1])])\n",
    "data = pd.concat([data,tmp], axis = 1)"
   ]
  },
  {
   "cell_type": "code",
   "execution_count": 163,
   "metadata": {
    "id": "iKPIKCoupSrE"
   },
   "outputs": [],
   "source": [
    "days = calendar\n",
    "days.available = days.available.map(d)"
   ]
  },
  {
   "cell_type": "code",
   "execution_count": 164,
   "metadata": {
    "id": "agnjFxazqPPF"
   },
   "outputs": [],
   "source": [
    "days_per_id = days.groupby(by = ['listing_id'])['available'].agg(['sum'])\n",
    "days_per_id.reset_index(drop = False, inplace = True)\n",
    "days_per_id = days_per_id.rename(columns={\"listing_id\":\"id\", \"sum\":\"days\"})"
   ]
  },
  {
   "cell_type": "code",
   "execution_count": 165,
   "metadata": {
    "id": "cx104UR-q8h5"
   },
   "outputs": [],
   "source": [
    "data = data.merge(days_per_id, on='id')"
   ]
  },
  {
   "cell_type": "code",
   "execution_count": 166,
   "metadata": {
    "id": "V6BqpGCx3YVt"
   },
   "outputs": [],
   "source": [
    "data = data.drop(['id'], axis = 1)\n",
    "x_train, x_test, y_train, y_test = train_test_split(data, Y, test_size = 0.2, random_state = 42)"
   ]
  },
  {
   "cell_type": "code",
   "execution_count": 167,
   "metadata": {
    "id": "J5V70NEs4D3b"
   },
   "outputs": [],
   "source": [
    "from xgboost import XGBRegressor\n",
    "from catboost import CatBoostRegressor\n",
    "from sklearn.ensemble import RandomForestRegressor\n",
    "\n",
    "from hyperopt import hp, tpe\n",
    "from hyperopt.fmin import fmin\n",
    "\n",
    "def mean_absolute_percentage_error(y_true, y_pred): \n",
    "    y_true, y_pred = np.array(y_true), np.array(y_pred)\n",
    "    y_true = np.log(np.add(y_true,1))\n",
    "    y_pred = np.log(np.add(y_pred,1))\n",
    "    return mean_absolute_error(y_true, y_pred)"
   ]
  },
  {
   "cell_type": "code",
   "execution_count": 183,
   "metadata": {
    "colab": {
     "base_uri": "https://localhost:8080/"
    },
    "id": "xBhtmnFuARsY",
    "outputId": "6234f564-e65a-47e5-d8b1-7684bc38352f"
   },
   "outputs": [
    {
     "name": "stdout",
     "output_type": "stream",
     "text": [
      "0.27566049715876884   20   50   0.05\n",
      "0.27428957446315166   20   60   0.05\n",
      "0.274888470601494   20   70   0.05\n"
     ]
    }
   ],
   "source": [
    "for lr in np.arange(0.05, 0.055, 0.01):\n",
    "    for depth in range(20,21,1):\n",
    "      for estims in range(50, 75, 10):\n",
    "        model_xgb = XGBRegressor(learning_rate=lr, max_depth=depth, n_estimators=estims, nthread=-1,silent=True)\n",
    "        model_xgb.fit(x_train, y_train)\n",
    "        y_pred = model_xgb.predict(x_test)\n",
    "        y_pred = np.where(y_pred<0, 0, y_pred)\n",
    "        print(mean_absolute_percentage_error(y_test, y_pred), ' ', depth, ' ',estims, ' ', lr)"
   ]
  },
  {
   "cell_type": "code",
   "execution_count": 168,
   "metadata": {},
   "outputs": [
    {
     "data": {
      "text/plain": [
       "XGBRegressor(base_score=0.5, booster='gbtree', colsample_bylevel=1,\n",
       "             colsample_bynode=1, colsample_bytree=1, gamma=0,\n",
       "             importance_type='gain', learning_rate=0.05, max_delta_step=0,\n",
       "             max_depth=20, min_child_weight=1, missing=None, n_estimators=60,\n",
       "             n_jobs=1, nthread=-1, objective='reg:linear', random_state=0,\n",
       "             reg_alpha=0, reg_lambda=1, scale_pos_weight=1, seed=None,\n",
       "             silent=True, subsample=1, verbosity=1)"
      ]
     },
     "execution_count": 168,
     "metadata": {},
     "output_type": "execute_result"
    }
   ],
   "source": [
    "model = XGBRegressor(learning_rate=0.05, max_depth=20, n_estimators=60, nthread=-1,silent=True)\n",
    "model.fit(data, Y)"
   ]
  },
  {
   "cell_type": "code",
   "execution_count": 169,
   "metadata": {
    "colab": {
     "base_uri": "https://localhost:8080/"
    },
    "id": "Ga6WkLK8Cf6m",
    "outputId": "ff550ead-f671-4db7-bc00-470042669b46"
   },
   "outputs": [],
   "source": [
    "data_test = test"
   ]
  },
  {
   "cell_type": "code",
   "execution_count": 170,
   "metadata": {
    "colab": {
     "base_uri": "https://localhost:8080/"
    },
    "id": "-XrerD1iE_-T",
    "outputId": "718e6962-6198-418a-8a6d-a833b4363017"
   },
   "outputs": [
    {
     "name": "stderr",
     "output_type": "stream",
     "text": [
      "D:\\Program Files (x86)\\Anaconda\\lib\\site-packages\\sklearn\\preprocessing\\_label.py:987: UserWarning: unknown class(es) ['', ' toilet', '24-hour check-in', 'Accessible-height bed', 'Accessible-height toilet', 'Air conditioning', 'Air purifier', 'Alfresco bathtub', 'Amazon Echo', 'BBQ grill', 'Baby bath', 'Baby monitor', 'Babysitter recommendations', 'Balcony', 'Bath towel', 'Bathroom essentials', 'Bathtub', 'Bathtub with bath chair', 'Beach essentials', 'Beachfront', 'Bed linens', 'Bedroom comforts', 'Bidet', 'Body soap', 'Breakfast', 'Breakfast table', 'Building staff', 'Buzzer/wireless intercom', 'Cable TV', 'Carbon monoxide detector', 'Cat(s)', 'Ceiling fan', 'Changing table', 'Children’s books and toys', 'Children’s dinnerware', 'Cleaning before checkout', 'Coffee maker', 'Convection oven', 'Cooking basics', 'Crib', 'DVD player', 'Day bed', 'Disabled parking spot', 'Dishes and silverware', 'Dishwasher', 'Dog(s)', 'Doorman', 'Double oven', 'Dryer', 'EV charger', 'Electric profiling bed', 'Elevator', 'En suite bathroom', 'Espresso machine', 'Essentials', 'Ethernet connection', 'Exercise equipment', 'Extra pillows and blankets', 'Family/kid friendly', 'Fax machine', 'Fire extinguisher', 'Fire pit', 'Fireplace guards', 'Firm mattress', 'First aid kit', 'Fixed grab bars for shower', 'Fixed grab bars for toilet', 'Flat path to front door', 'Formal dining area', 'Free parking on premises', 'Free street parking', 'Full kitchen', 'Game console', 'Garden or backyard', 'Gas oven', 'Ground floor access', 'Gym', 'Hair dryer', 'Hammock', 'Handheld shower head', 'Hangers', 'Heat lamps', 'Heated floors', 'Heated towel rack', 'Heating', 'High chair', 'High-resolution computer monitor', 'Host greets you', 'Hot tub', 'Hot water', 'Hot water kettle', 'Indoor fireplace', 'Internet', 'Iron', 'Keypad', 'Kitchen', 'Kitchenette', 'Lake access', 'Laptop friendly workspace', 'Lock on bedroom door', 'Lockbox', 'Long term stays allowed', 'Luggage dropoff allowed', 'Memory foam mattress', 'Microwave', 'Mini fridge', 'Mountain view', 'Mudroom', 'Murphy bed', 'Netflix', 'Other', 'Other pet(s)', 'Outdoor kitchen', 'Outdoor parking', 'Outdoor seating', 'Outlet covers', 'Oven', 'Pack ’n Play/travel crib', 'Paid parking off premises', 'Paid parking on premises', 'Patio or balcony', 'Pets allowed', 'Pets live on this property', 'Pillow-top mattress', 'Pocket wifi', 'Pool', 'Pool cover', 'Printer', 'Private bathroom', 'Private entrance', 'Private hot tub', 'Private living room', 'Rain shower', 'Refrigerator', 'Roll-in shower', 'Room-darkening shades', 'Safety card', 'Self check-in', 'Shampoo', 'Shared gym', 'Shower chair', 'Single level home', 'Smart TV', 'Smart lock', 'Smoke detector', 'Smoking allowed', 'Soaking tub', 'Sound system', 'Stair gates', 'Stand alone steam shower', 'Standing valet', 'Steam oven', 'Step-free access', 'Stove', 'Suitable for events', 'Sun loungers', 'TV', 'Table corner guards', 'Tennis court', 'Terrace', 'Toilet paper', 'Walk-in shower', 'Warming drawer', 'Washer', 'Washer / Dryer', 'Waterfront', 'Well-lit path to entrance', 'Wheelchair accessible', 'Wide clearance to bed', 'Wide clearance to shower', 'Wide doorway', 'Wide entryway', 'Wide hallway clearance', 'Wifi', 'Window guards', 'Wine cooler', 'translation missing: en.hosting_amenity_49', 'translation missing: en.hosting_amenity_50'] will be ignored\n",
      "  .format(sorted(unknown, key=str)))\n"
     ]
    }
   ],
   "source": [
    "data_test = data_test.drop(['summary', 'space', 'description', 'experiences_offered', 'host_since', \n",
    "                  'neighborhood_overview', 'notes', 'transit', 'access', 'cancellation_policy',\n",
    "                  'interaction', 'house_rules', 'host_id', 'host_about', 'square_feet', \n",
    "                  'host_response_time', 'neighbourhood_cleansed', 'zipcode'], axis = 1)\n",
    "data_test.host_response_rate = data_test.host_response_rate.str.rstrip('%').astype(float)\n",
    "data_test.host_response_rate = data_test.host_response_rate.fillna(50)\n",
    "data_test.host_is_superhost = data_test.host_is_superhost.map(d).fillna(0)\n",
    "data_test.require_guest_phone_verification = data_test.require_guest_phone_verification.map(d).fillna(0)\n",
    "data_test.require_guest_profile_picture = data_test.require_guest_profile_picture.map(d).fillna(0)\n",
    "data_test.host_has_profile_pic = data_test.host_has_profile_pic.map(d).fillna(0)\n",
    "data_test.host_identity_verified = data_test.host_identity_verified.map(d).fillna(0)\n",
    "data_test.is_location_exact = data_test.is_location_exact.map(d).fillna(0)\n",
    "\n",
    "new_feature = property_type_encoder.transform(data_test.property_type.values.reshape(-1, 1))\n",
    "data_test = data_test.drop(['property_type'], axis = 1)\n",
    "tmp = pd.DataFrame(new_feature, columns=['property_type'+str(i) for i in range(new_feature.shape[1])])\n",
    "data_test = pd.concat([data_test,tmp], axis = 1)\n",
    "\n",
    "new_feature = room_type_encoder.transform(data_test.room_type.values.reshape(-1, 1))\n",
    "data_test = data_test.drop(['room_type'], axis = 1)\n",
    "tmp = pd.DataFrame(new_feature, columns=['room_type'+str(i) for i in range(new_feature.shape[1])])\n",
    "data_test = pd.concat([data_test,tmp], axis = 1)\n",
    "\n",
    "new_feature = bed_type_encoder.transform(data_test.bed_type.values.reshape(-1, 1))\n",
    "data_test = data_test.drop(['bed_type'], axis = 1)\n",
    "tmp = pd.DataFrame(new_feature, columns=['bed_type'+str(i) for i in range(new_feature.shape[1])])\n",
    "data_test = pd.concat([data_test,tmp], axis = 1)\n",
    "\n",
    "data_test.bathrooms = data_test.bathrooms.fillna(0)\n",
    "data_test.bedrooms = data_test.bedrooms.fillna(0)\n",
    "data_test.beds = data_test.beds.fillna(0)\n",
    "\n",
    "data_test.amenities = data_test.amenities.replace('[{\"}]', '', regex=True)\n",
    "data_test.amenities = data_test.amenities.apply(lambda x: x[:].split(','))\n",
    "\n",
    "new_feature = amenities_encoder.transform(data_test.amenities)\n",
    "data_test = data_test.drop(['amenities'], axis = 1)\n",
    "tmp = pd.DataFrame(new_feature, columns=['amenities'+str(i) for i in range(new_feature.shape[1])])\n",
    "data_test = pd.concat([data_test,tmp], axis = 1)\n",
    "\n",
    "data_test.security_deposit = data_test.security_deposit.fillna(0)\n",
    "data_test.cleaning_fee = data_test.cleaning_fee.fillna(0)\n",
    "\n",
    "data_test.name = data_test.name.fillna('')\n",
    "name_feature = name_encoder.transform(data_test.name)\n",
    "name_feature = truncater.transform(name_feature)\n",
    "data_test = data_test.drop(['name'], axis = 1)\n",
    "tmp = pd.DataFrame(name_feature, columns=['name'+str(i) for i in range(name_feature.shape[1])])\n",
    "data_test = pd.concat([data_test,tmp], axis = 1)\n",
    "\n",
    "data_test = data_test.merge(days_per_id, on='id')\n",
    "\n",
    "Y_id = data_test.id\n",
    "data_test = data_test.drop(['id'], axis = 1)"
   ]
  },
  {
   "cell_type": "code",
   "execution_count": 171,
   "metadata": {},
   "outputs": [],
   "source": [
    "Y_pred = model.predict(data_test)"
   ]
  },
  {
   "cell_type": "code",
   "execution_count": 172,
   "metadata": {},
   "outputs": [],
   "source": [
    "Y_pred = np.where(Y_pred<0, 0, Y_pred)"
   ]
  },
  {
   "cell_type": "code",
   "execution_count": 173,
   "metadata": {},
   "outputs": [],
   "source": [
    "tmp = pd.DataFrame(Y_pred, columns=['price'])"
   ]
  },
  {
   "cell_type": "code",
   "execution_count": 178,
   "metadata": {},
   "outputs": [],
   "source": [
    "out = pd.concat([Y_id,tmp], axis = 1)"
   ]
  },
  {
   "cell_type": "code",
   "execution_count": 182,
   "metadata": {},
   "outputs": [],
   "source": [
    "out.to_csv('xg_res.csv', index=False)"
   ]
  },
  {
   "cell_type": "code",
   "execution_count": 180,
   "metadata": {},
   "outputs": [
    {
     "data": {
      "text/html": [
       "<div>\n",
       "<style scoped>\n",
       "    .dataframe tbody tr th:only-of-type {\n",
       "        vertical-align: middle;\n",
       "    }\n",
       "\n",
       "    .dataframe tbody tr th {\n",
       "        vertical-align: top;\n",
       "    }\n",
       "\n",
       "    .dataframe thead th {\n",
       "        text-align: right;\n",
       "    }\n",
       "</style>\n",
       "<table border=\"1\" class=\"dataframe\">\n",
       "  <thead>\n",
       "    <tr style=\"text-align: right;\">\n",
       "      <th></th>\n",
       "      <th>host_response_rate</th>\n",
       "      <th>host_is_superhost</th>\n",
       "      <th>host_has_profile_pic</th>\n",
       "      <th>host_identity_verified</th>\n",
       "      <th>latitude</th>\n",
       "      <th>longitude</th>\n",
       "      <th>is_location_exact</th>\n",
       "      <th>accommodates</th>\n",
       "      <th>bathrooms</th>\n",
       "      <th>bedrooms</th>\n",
       "      <th>...</th>\n",
       "      <th>name21</th>\n",
       "      <th>name22</th>\n",
       "      <th>name23</th>\n",
       "      <th>name24</th>\n",
       "      <th>name25</th>\n",
       "      <th>name26</th>\n",
       "      <th>name27</th>\n",
       "      <th>name28</th>\n",
       "      <th>name29</th>\n",
       "      <th>days</th>\n",
       "    </tr>\n",
       "  </thead>\n",
       "  <tbody>\n",
       "    <tr>\n",
       "      <th>0</th>\n",
       "      <td>100.0</td>\n",
       "      <td>1.0</td>\n",
       "      <td>1.0</td>\n",
       "      <td>0.0</td>\n",
       "      <td>51.587767</td>\n",
       "      <td>-0.105666</td>\n",
       "      <td>0</td>\n",
       "      <td>2</td>\n",
       "      <td>0.0</td>\n",
       "      <td>1.0</td>\n",
       "      <td>...</td>\n",
       "      <td>0.0</td>\n",
       "      <td>0.0</td>\n",
       "      <td>0.0</td>\n",
       "      <td>0.0</td>\n",
       "      <td>0.0</td>\n",
       "      <td>0.0</td>\n",
       "      <td>0.0</td>\n",
       "      <td>0.0</td>\n",
       "      <td>0.0</td>\n",
       "      <td>329</td>\n",
       "    </tr>\n",
       "    <tr>\n",
       "      <th>1</th>\n",
       "      <td>75.0</td>\n",
       "      <td>0.0</td>\n",
       "      <td>1.0</td>\n",
       "      <td>0.0</td>\n",
       "      <td>51.515645</td>\n",
       "      <td>-0.314508</td>\n",
       "      <td>1</td>\n",
       "      <td>2</td>\n",
       "      <td>0.0</td>\n",
       "      <td>1.0</td>\n",
       "      <td>...</td>\n",
       "      <td>0.0</td>\n",
       "      <td>0.0</td>\n",
       "      <td>0.0</td>\n",
       "      <td>0.0</td>\n",
       "      <td>0.0</td>\n",
       "      <td>0.0</td>\n",
       "      <td>0.0</td>\n",
       "      <td>0.0</td>\n",
       "      <td>0.0</td>\n",
       "      <td>0</td>\n",
       "    </tr>\n",
       "    <tr>\n",
       "      <th>2</th>\n",
       "      <td>100.0</td>\n",
       "      <td>0.0</td>\n",
       "      <td>1.0</td>\n",
       "      <td>0.0</td>\n",
       "      <td>51.568017</td>\n",
       "      <td>-0.111208</td>\n",
       "      <td>1</td>\n",
       "      <td>2</td>\n",
       "      <td>1.0</td>\n",
       "      <td>1.0</td>\n",
       "      <td>...</td>\n",
       "      <td>0.0</td>\n",
       "      <td>0.0</td>\n",
       "      <td>0.0</td>\n",
       "      <td>0.0</td>\n",
       "      <td>0.0</td>\n",
       "      <td>0.0</td>\n",
       "      <td>0.0</td>\n",
       "      <td>0.0</td>\n",
       "      <td>0.0</td>\n",
       "      <td>365</td>\n",
       "    </tr>\n",
       "    <tr>\n",
       "      <th>3</th>\n",
       "      <td>50.0</td>\n",
       "      <td>1.0</td>\n",
       "      <td>1.0</td>\n",
       "      <td>1.0</td>\n",
       "      <td>51.520982</td>\n",
       "      <td>-0.140024</td>\n",
       "      <td>1</td>\n",
       "      <td>6</td>\n",
       "      <td>2.0</td>\n",
       "      <td>3.0</td>\n",
       "      <td>...</td>\n",
       "      <td>0.0</td>\n",
       "      <td>0.0</td>\n",
       "      <td>0.0</td>\n",
       "      <td>0.0</td>\n",
       "      <td>0.0</td>\n",
       "      <td>0.0</td>\n",
       "      <td>0.0</td>\n",
       "      <td>0.0</td>\n",
       "      <td>0.0</td>\n",
       "      <td>361</td>\n",
       "    </tr>\n",
       "    <tr>\n",
       "      <th>4</th>\n",
       "      <td>100.0</td>\n",
       "      <td>0.0</td>\n",
       "      <td>1.0</td>\n",
       "      <td>1.0</td>\n",
       "      <td>51.472981</td>\n",
       "      <td>-0.163764</td>\n",
       "      <td>1</td>\n",
       "      <td>4</td>\n",
       "      <td>1.5</td>\n",
       "      <td>2.0</td>\n",
       "      <td>...</td>\n",
       "      <td>0.0</td>\n",
       "      <td>0.0</td>\n",
       "      <td>0.0</td>\n",
       "      <td>0.0</td>\n",
       "      <td>0.0</td>\n",
       "      <td>0.0</td>\n",
       "      <td>0.0</td>\n",
       "      <td>0.0</td>\n",
       "      <td>0.0</td>\n",
       "      <td>363</td>\n",
       "    </tr>\n",
       "    <tr>\n",
       "      <th>...</th>\n",
       "      <td>...</td>\n",
       "      <td>...</td>\n",
       "      <td>...</td>\n",
       "      <td>...</td>\n",
       "      <td>...</td>\n",
       "      <td>...</td>\n",
       "      <td>...</td>\n",
       "      <td>...</td>\n",
       "      <td>...</td>\n",
       "      <td>...</td>\n",
       "      <td>...</td>\n",
       "      <td>...</td>\n",
       "      <td>...</td>\n",
       "      <td>...</td>\n",
       "      <td>...</td>\n",
       "      <td>...</td>\n",
       "      <td>...</td>\n",
       "      <td>...</td>\n",
       "      <td>...</td>\n",
       "      <td>...</td>\n",
       "      <td>...</td>\n",
       "    </tr>\n",
       "    <tr>\n",
       "      <th>22995</th>\n",
       "      <td>50.0</td>\n",
       "      <td>0.0</td>\n",
       "      <td>1.0</td>\n",
       "      <td>1.0</td>\n",
       "      <td>51.560545</td>\n",
       "      <td>-0.055962</td>\n",
       "      <td>1</td>\n",
       "      <td>2</td>\n",
       "      <td>1.0</td>\n",
       "      <td>1.0</td>\n",
       "      <td>...</td>\n",
       "      <td>0.0</td>\n",
       "      <td>0.0</td>\n",
       "      <td>0.0</td>\n",
       "      <td>0.0</td>\n",
       "      <td>0.0</td>\n",
       "      <td>0.0</td>\n",
       "      <td>0.0</td>\n",
       "      <td>0.0</td>\n",
       "      <td>0.0</td>\n",
       "      <td>0</td>\n",
       "    </tr>\n",
       "    <tr>\n",
       "      <th>22996</th>\n",
       "      <td>100.0</td>\n",
       "      <td>0.0</td>\n",
       "      <td>1.0</td>\n",
       "      <td>1.0</td>\n",
       "      <td>51.528993</td>\n",
       "      <td>-0.142214</td>\n",
       "      <td>0</td>\n",
       "      <td>3</td>\n",
       "      <td>1.0</td>\n",
       "      <td>1.0</td>\n",
       "      <td>...</td>\n",
       "      <td>0.0</td>\n",
       "      <td>0.0</td>\n",
       "      <td>0.0</td>\n",
       "      <td>0.0</td>\n",
       "      <td>0.0</td>\n",
       "      <td>0.0</td>\n",
       "      <td>0.0</td>\n",
       "      <td>0.0</td>\n",
       "      <td>0.0</td>\n",
       "      <td>32</td>\n",
       "    </tr>\n",
       "    <tr>\n",
       "      <th>22997</th>\n",
       "      <td>50.0</td>\n",
       "      <td>0.0</td>\n",
       "      <td>1.0</td>\n",
       "      <td>0.0</td>\n",
       "      <td>51.466093</td>\n",
       "      <td>-0.159151</td>\n",
       "      <td>1</td>\n",
       "      <td>6</td>\n",
       "      <td>1.5</td>\n",
       "      <td>3.0</td>\n",
       "      <td>...</td>\n",
       "      <td>0.0</td>\n",
       "      <td>0.0</td>\n",
       "      <td>0.0</td>\n",
       "      <td>0.0</td>\n",
       "      <td>0.0</td>\n",
       "      <td>0.0</td>\n",
       "      <td>0.0</td>\n",
       "      <td>0.0</td>\n",
       "      <td>0.0</td>\n",
       "      <td>0</td>\n",
       "    </tr>\n",
       "    <tr>\n",
       "      <th>22998</th>\n",
       "      <td>50.0</td>\n",
       "      <td>0.0</td>\n",
       "      <td>1.0</td>\n",
       "      <td>1.0</td>\n",
       "      <td>51.626713</td>\n",
       "      <td>-0.129613</td>\n",
       "      <td>1</td>\n",
       "      <td>5</td>\n",
       "      <td>1.0</td>\n",
       "      <td>3.0</td>\n",
       "      <td>...</td>\n",
       "      <td>0.0</td>\n",
       "      <td>0.0</td>\n",
       "      <td>0.0</td>\n",
       "      <td>0.0</td>\n",
       "      <td>0.0</td>\n",
       "      <td>0.0</td>\n",
       "      <td>0.0</td>\n",
       "      <td>0.0</td>\n",
       "      <td>0.0</td>\n",
       "      <td>0</td>\n",
       "    </tr>\n",
       "    <tr>\n",
       "      <th>22999</th>\n",
       "      <td>50.0</td>\n",
       "      <td>0.0</td>\n",
       "      <td>1.0</td>\n",
       "      <td>0.0</td>\n",
       "      <td>51.624473</td>\n",
       "      <td>0.027480</td>\n",
       "      <td>0</td>\n",
       "      <td>2</td>\n",
       "      <td>1.0</td>\n",
       "      <td>1.0</td>\n",
       "      <td>...</td>\n",
       "      <td>0.0</td>\n",
       "      <td>0.0</td>\n",
       "      <td>0.0</td>\n",
       "      <td>0.0</td>\n",
       "      <td>0.0</td>\n",
       "      <td>0.0</td>\n",
       "      <td>0.0</td>\n",
       "      <td>0.0</td>\n",
       "      <td>0.0</td>\n",
       "      <td>0</td>\n",
       "    </tr>\n",
       "  </tbody>\n",
       "</table>\n",
       "<p>23000 rows × 165 columns</p>\n",
       "</div>"
      ],
      "text/plain": [
       "       host_response_rate  host_is_superhost  host_has_profile_pic  \\\n",
       "0                   100.0                1.0                   1.0   \n",
       "1                    75.0                0.0                   1.0   \n",
       "2                   100.0                0.0                   1.0   \n",
       "3                    50.0                1.0                   1.0   \n",
       "4                   100.0                0.0                   1.0   \n",
       "...                   ...                ...                   ...   \n",
       "22995                50.0                0.0                   1.0   \n",
       "22996               100.0                0.0                   1.0   \n",
       "22997                50.0                0.0                   1.0   \n",
       "22998                50.0                0.0                   1.0   \n",
       "22999                50.0                0.0                   1.0   \n",
       "\n",
       "       host_identity_verified   latitude  longitude  is_location_exact  \\\n",
       "0                         0.0  51.587767  -0.105666                  0   \n",
       "1                         0.0  51.515645  -0.314508                  1   \n",
       "2                         0.0  51.568017  -0.111208                  1   \n",
       "3                         1.0  51.520982  -0.140024                  1   \n",
       "4                         1.0  51.472981  -0.163764                  1   \n",
       "...                       ...        ...        ...                ...   \n",
       "22995                     1.0  51.560545  -0.055962                  1   \n",
       "22996                     1.0  51.528993  -0.142214                  0   \n",
       "22997                     0.0  51.466093  -0.159151                  1   \n",
       "22998                     1.0  51.626713  -0.129613                  1   \n",
       "22999                     0.0  51.624473   0.027480                  0   \n",
       "\n",
       "       accommodates  bathrooms  bedrooms  ...  name21  name22  name23  name24  \\\n",
       "0                 2        0.0       1.0  ...     0.0     0.0     0.0     0.0   \n",
       "1                 2        0.0       1.0  ...     0.0     0.0     0.0     0.0   \n",
       "2                 2        1.0       1.0  ...     0.0     0.0     0.0     0.0   \n",
       "3                 6        2.0       3.0  ...     0.0     0.0     0.0     0.0   \n",
       "4                 4        1.5       2.0  ...     0.0     0.0     0.0     0.0   \n",
       "...             ...        ...       ...  ...     ...     ...     ...     ...   \n",
       "22995             2        1.0       1.0  ...     0.0     0.0     0.0     0.0   \n",
       "22996             3        1.0       1.0  ...     0.0     0.0     0.0     0.0   \n",
       "22997             6        1.5       3.0  ...     0.0     0.0     0.0     0.0   \n",
       "22998             5        1.0       3.0  ...     0.0     0.0     0.0     0.0   \n",
       "22999             2        1.0       1.0  ...     0.0     0.0     0.0     0.0   \n",
       "\n",
       "       name25  name26  name27  name28  name29  days  \n",
       "0         0.0     0.0     0.0     0.0     0.0   329  \n",
       "1         0.0     0.0     0.0     0.0     0.0     0  \n",
       "2         0.0     0.0     0.0     0.0     0.0   365  \n",
       "3         0.0     0.0     0.0     0.0     0.0   361  \n",
       "4         0.0     0.0     0.0     0.0     0.0   363  \n",
       "...       ...     ...     ...     ...     ...   ...  \n",
       "22995     0.0     0.0     0.0     0.0     0.0     0  \n",
       "22996     0.0     0.0     0.0     0.0     0.0    32  \n",
       "22997     0.0     0.0     0.0     0.0     0.0     0  \n",
       "22998     0.0     0.0     0.0     0.0     0.0     0  \n",
       "22999     0.0     0.0     0.0     0.0     0.0     0  \n",
       "\n",
       "[23000 rows x 165 columns]"
      ]
     },
     "execution_count": 180,
     "metadata": {},
     "output_type": "execute_result"
    }
   ],
   "source": [
    "data_test"
   ]
  },
  {
   "cell_type": "code",
   "execution_count": null,
   "metadata": {},
   "outputs": [],
   "source": []
  }
 ],
 "metadata": {
  "colab": {
   "collapsed_sections": [],
   "name": "Untitled6.ipynb",
   "provenance": []
  },
  "kernelspec": {
   "display_name": "Python 3",
   "language": "python",
   "name": "python3"
  },
  "language_info": {
   "codemirror_mode": {
    "name": "ipython",
    "version": 3
   },
   "file_extension": ".py",
   "mimetype": "text/x-python",
   "name": "python",
   "nbconvert_exporter": "python",
   "pygments_lexer": "ipython3",
   "version": "3.7.6"
  }
 },
 "nbformat": 4,
 "nbformat_minor": 1
}
